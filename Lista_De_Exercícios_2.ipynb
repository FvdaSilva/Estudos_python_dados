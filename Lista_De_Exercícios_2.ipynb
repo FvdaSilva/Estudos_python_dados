{
  "nbformat": 4,
  "nbformat_minor": 0,
  "metadata": {
    "colab": {
      "provenance": [],
      "authorship_tag": "ABX9TyMMiW5MXO/eChMVbyiykU3Q",
      "include_colab_link": true
    },
    "kernelspec": {
      "name": "python3",
      "display_name": "Python 3"
    },
    "language_info": {
      "name": "python"
    }
  },
  "cells": [
    {
      "cell_type": "markdown",
      "metadata": {
        "id": "view-in-github",
        "colab_type": "text"
      },
      "source": [
        "<a href=\"https://colab.research.google.com/github/FvdaSilva/Estudos_python_dados/blob/main/Lista_De_Exerc%C3%ADcios_2.ipynb\" target=\"_parent\"><img src=\"https://colab.research.google.com/assets/colab-badge.svg\" alt=\"Open In Colab\"/></a>"
      ]
    },
    {
      "cell_type": "code",
      "source": [
        "#Equipe: Fernanda Viana, Kerly Amorim, Hugo Silveira, João Pedro\n",
        "\n",
        "opcoes = [\"Windows Server\", \"Linux\", \"Mac OS\", \"Outro\"]\n",
        "votos = []\n",
        "\n",
        "for i in range(5):\n",
        "  voto = int(input(f\"Voto {i+1} - Digite o número da opção (1 a 4): \"))\n",
        "  while voto < 1 or voto > 4:\n",
        "        print(\"Opção inválida! Tente novamente.\")\n",
        "        voto = int(input(f\"Voto {i+1} - Digite o número da opção (1 a 4): \"))\n",
        "  votos.append(voto)\n",
        "\n",
        "contagem = [0, 0, 0, 0]\n",
        "\n",
        "for voto in votos:\n",
        "    contagem[voto - 1] += 1\n",
        "\n",
        "print(\"\\n\")\n",
        "for i in range(4):\n",
        "    print(f\"{opcoes[i]}: {contagem[i]} voto(s)\")"
      ],
      "metadata": {
        "colab": {
          "base_uri": "https://localhost:8080/"
        },
        "id": "zLRnX_HXGJ7N",
        "outputId": "7299cb46-89d1-447c-e436-9a6c867e117c"
      },
      "execution_count": null,
      "outputs": [
        {
          "output_type": "stream",
          "name": "stdout",
          "text": [
            "Voto 1 - Digite o número da opção (1 a 4): 3\n",
            "Voto 2 - Digite o número da opção (1 a 4): 4\n",
            "Voto 3 - Digite o número da opção (1 a 4): 2\n",
            "Voto 4 - Digite o número da opção (1 a 4): 3\n",
            "Voto 5 - Digite o número da opção (1 a 4): 4\n",
            "\n",
            "\n",
            "Windows Server: 0 voto(s)\n",
            "Linux: 1 voto(s)\n",
            "Mac OS: 2 voto(s)\n",
            "Outro: 2 voto(s)\n"
          ]
        }
      ]
    },
    {
      "cell_type": "code",
      "source": [
        "#Equipe: Fernanda Viana, Kerly Amorim, Hugo Silveira, João Pedro\n",
        "\n",
        "while True:\n",
        "    nome = input(\"Digite o nome do atleta (ou 'Sair' para encerrar): \")\n",
        "\n",
        "    if nome.lower() == \"sair\":\n",
        "        break\n",
        "\n",
        "    saltos = []\n",
        "    for i in range(1, 6):\n",
        "        entrada = input(f\"Digite a distância do {i}º salto: \").replace(',', '.')\n",
        "        salto = float(entrada)\n",
        "        saltos.append(salto)\n",
        "\n",
        "    media = sum(saltos) / len(saltos)\n",
        "\n",
        "    print(\"\\n\")\n",
        "    print(f\"Atleta: {nome}\")\n",
        "    for i in range(5):\n",
        "        print(f\"{i + 1} º Salto: {saltos[i]} m\")\n",
        "    print(f\"Média dos saltos: {media:.2f} m\\n\")\n"
      ],
      "metadata": {
        "colab": {
          "base_uri": "https://localhost:8080/"
        },
        "id": "tlc3fW4GHJGm",
        "outputId": "52e4a6ae-16f6-4f7f-fb82-6658998884a0"
      },
      "execution_count": null,
      "outputs": [
        {
          "name": "stdout",
          "output_type": "stream",
          "text": [
            "Digite o nome do atleta (ou 'Sair' para encerrar): Mauren\n",
            "Digite a distância do 1º salto: 2\n",
            "Digite a distância do 2º salto: 2.5\n",
            "Digite a distância do 3º salto: 3\n",
            "Digite a distância do 4º salto: 2.8\n",
            "Digite a distância do 5º salto: 2.9\n",
            "\n",
            "\n",
            "Atleta: Mauren\n",
            "1 º Salto: 2.0 m\n",
            "2 º Salto: 2.5 m\n",
            "3 º Salto: 3.0 m\n",
            "4 º Salto: 2.8 m\n",
            "5 º Salto: 2.9 m\n",
            "Média dos saltos: 2.64 m\n",
            "\n",
            "Digite o nome do atleta (ou 'Sair' para encerrar): sair\n"
          ]
        }
      ]
    },
    {
      "cell_type": "code",
      "source": [
        "#Equipe: Fernanda Viana, Kerly Amorim, Hugo Silveira, João Pedro\n",
        "\n",
        "def sequencias():\n",
        "    while True:\n",
        "        x = int(input(\"Digite um número (0 para sair): \"))\n",
        "        if x == 0:\n",
        "            break\n",
        "        for i in range(1, x + 1):\n",
        "            print(i, end=' ')\n",
        "        print()\n",
        "\n",
        "\n",
        "sequencias()\n"
      ],
      "metadata": {
        "colab": {
          "base_uri": "https://localhost:8080/"
        },
        "id": "5aAuWViDOyip",
        "outputId": "865ffd0a-cc74-4a0b-966f-6e9c96895784"
      },
      "execution_count": null,
      "outputs": [
        {
          "name": "stdout",
          "output_type": "stream",
          "text": [
            "Digite um número (0 para sair): 5\n",
            "1 2 3 4 5 \n",
            "Digite um número (0 para sair): 10\n",
            "1 2 3 4 5 6 7 8 9 10 \n",
            "Digite um número (0 para sair): 0\n"
          ]
        }
      ]
    },
    {
      "cell_type": "code",
      "source": [
        "#Equipe: Fernanda Viana, Kerly Amorim, Hugo Silveira, João Pedro\n",
        "\n",
        "def KmtoMile(km):\n",
        "\n",
        "  milhas = km*0.621371\n",
        "\n",
        "  return milhas\n",
        "\n",
        "def KmtoMeter(km):\n",
        "\n",
        "  metros = km/1000\n",
        "\n",
        "  return metros\n",
        "\n",
        "km=(float(input(\"Digite a distância percorrida em km: \")))\n",
        "\n",
        "conversao=(input(\"Você deseja converter para metros ou milhas? \"))\n",
        "\n",
        "\n",
        "\n",
        "if conversao == \"metros\":\n",
        "\n",
        "  print(f\"{km} km convertido para {conversao} são {KmtoMeter(km)} metros\")\n",
        "\n",
        "elif conversao == \"milhas\":\n",
        "\n",
        "  print(f\"{km} km convertido para {conversao} são {KmtoMile(km)} milhas\")"
      ],
      "metadata": {
        "id": "NVOfuy1aQaTf",
        "colab": {
          "base_uri": "https://localhost:8080/"
        },
        "outputId": "fb3ca637-b91d-44d1-9bc0-1c91d09261a4"
      },
      "execution_count": null,
      "outputs": [
        {
          "output_type": "stream",
          "name": "stdout",
          "text": [
            "Digite a distância percorrida em km: 34\n",
            "Você deseja converter para metros ou milhas? milhas\n",
            "34.0 km convertido para milhas são 21.126614 milhas\n"
          ]
        }
      ]
    }
  ]
}