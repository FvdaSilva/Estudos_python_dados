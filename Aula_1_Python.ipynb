{
  "nbformat": 4,
  "nbformat_minor": 0,
  "metadata": {
    "colab": {
      "provenance": [],
      "authorship_tag": "ABX9TyNyeqOYSu2tv7Dzfozi05V4",
      "include_colab_link": true
    },
    "kernelspec": {
      "name": "python3",
      "display_name": "Python 3"
    },
    "language_info": {
      "name": "python"
    }
  },
  "cells": [
    {
      "cell_type": "markdown",
      "metadata": {
        "id": "view-in-github",
        "colab_type": "text"
      },
      "source": [
        "<a href=\"https://colab.research.google.com/github/FvdaSilva/Estudos_python_dados/blob/main/Aula_1_Python.ipynb\" target=\"_parent\"><img src=\"https://colab.research.google.com/assets/colab-badge.svg\" alt=\"Open In Colab\"/></a>"
      ]
    },
    {
      "cell_type": "markdown",
      "source": [
        "Nome e Idade"
      ],
      "metadata": {
        "id": "rkVECb5dyiiu"
      }
    },
    {
      "cell_type": "code",
      "execution_count": null,
      "metadata": {
        "colab": {
          "base_uri": "https://localhost:8080/"
        },
        "id": "eXrMScCfqvpv",
        "outputId": "74135620-0b07-4020-b765-2dbdc4455a1d"
      },
      "outputs": [
        {
          "output_type": "stream",
          "name": "stdout",
          "text": [
            "Digite 1seu nome:Fernanda\n",
            "Digite sua idade:38\n",
            "Digite sua altura:156\n",
            "Fernanda\n"
          ]
        }
      ],
      "source": [
        "nome = input(\"Digite 1seu nome:\")\n",
        "idade = int(input(\"Digite sua idade:\"))\n",
        "altura = float(input(\"Digite sua altura:\"))\n",
        "print(nome)"
      ]
    },
    {
      "cell_type": "markdown",
      "source": [
        "Valor do pedido"
      ],
      "metadata": {
        "id": "Np3GvW3Pymim"
      }
    },
    {
      "cell_type": "code",
      "source": [
        "print(\"Bem-vindo(a) à Logística da Fernanda!\\n\")\n",
        "nome = input(\"Digite seu nome: \")\n",
        "pedido = int(input(\"Digite o número do seu pedido: \"))\n",
        "valor_compra = float(input(\"Digite o valor da sua compra: R$ \"))\n",
        "pagamento = input(\"Como deseja fazer seu pagamento? A vista ou parcelado? \")\n",
        "\n",
        "print(f\"O cliente {nome} realizou um pedido de número {pedido} no valor de R$ {valor_compra} , e seu pagamento será {pagamento}\")"
      ],
      "metadata": {
        "colab": {
          "base_uri": "https://localhost:8080/"
        },
        "id": "ssS8kdGJrCwm",
        "outputId": "2093ff75-0096-4442-8d69-f6acda554781"
      },
      "execution_count": null,
      "outputs": [
        {
          "output_type": "stream",
          "name": "stdout",
          "text": [
            "Bem-vindo(a) à Logística da Fernanda!\n",
            "Digite seu nome: Fernanda\n",
            "Digite o número do seu pedido: 172\n",
            "Digite o valor da sua compra: R$ 456\n",
            "Como deseja fazer seu pagamento? A vista ou parcelado? parcelado\n",
            "O cliente Fernanda realizou um pedido de número 172 no valor de R$ 456.0 , e seu pagamento será parcelado\n"
          ]
        }
      ]
    },
    {
      "cell_type": "markdown",
      "source": [
        "Fahrenheit e Celsius"
      ],
      "metadata": {
        "id": "a5LyIVXryrCe"
      }
    },
    {
      "cell_type": "code",
      "source": [
        "fahrenheit = float(input(\"Digite a temperatura em Fahrenheit: \"))\n",
        "celsius = (fahrenheit - 32) / 1.8\n",
        "print(f\"A temperatura em Celsius é: {celsius:.2f}°C\")\n"
      ],
      "metadata": {
        "colab": {
          "base_uri": "https://localhost:8080/"
        },
        "id": "ixqXF6DJxYzi",
        "outputId": "9c8d5921-e86d-4051-eb26-66b6d908f841"
      },
      "execution_count": null,
      "outputs": [
        {
          "output_type": "stream",
          "name": "stdout",
          "text": [
            "Digite a temperatura em Fahrenheit: 95\n",
            "A temperatura em Celsius é: 35.00°C\n"
          ]
        }
      ]
    },
    {
      "cell_type": "markdown",
      "source": [
        "Valor de Delta"
      ],
      "metadata": {
        "id": "flePGdhSyw6y"
      }
    },
    {
      "cell_type": "code",
      "source": [
        "a = float(input(\"Digite o valor de A: \"))\n",
        "b = float(input(\"Digite o valor de B: \"))\n",
        "c = float(input(\"Digite o valor de C: \"))\n",
        "delta = b**2 - 4*a*c\n",
        "print(f\"O valor de Delta é: {delta}\")"
      ],
      "metadata": {
        "colab": {
          "base_uri": "https://localhost:8080/"
        },
        "id": "voP-_9E8yLRT",
        "outputId": "103cb2dd-e581-45c0-a06e-23fabb8fe491"
      },
      "execution_count": null,
      "outputs": [
        {
          "output_type": "stream",
          "name": "stdout",
          "text": [
            "Digite o valor de A: 4\n",
            "Digite o valor de B: 8\n",
            "Digite o valor de C: 12\n",
            "O valor de Delta é: -128.0\n"
          ]
        }
      ]
    },
    {
      "cell_type": "markdown",
      "source": [
        "Total de arrecadado"
      ],
      "metadata": {
        "id": "1i4eIDxG61XW"
      }
    },
    {
      "cell_type": "code",
      "source": [
        "p = int(input(\"Quantidade de camisetas pequenas: \"))\n",
        "m = int(input(\"Quantidade de camisetas médias: \"))\n",
        "g = int(input(\"Quantidade de camisetas grandes: \"))\n",
        "total = (p*10) + (m*12) + (g*15)\n",
        "print(f\"Valor total arrecadado: R$ {total:.2f}\")"
      ],
      "metadata": {
        "colab": {
          "base_uri": "https://localhost:8080/"
        },
        "id": "Cng_wECJ6AQN",
        "outputId": "aeb39240-9291-4d2c-fe8e-d4fd06743037"
      },
      "execution_count": null,
      "outputs": [
        {
          "output_type": "stream",
          "name": "stdout",
          "text": [
            "Quantidade de camisetas pequenas: 4\n",
            "Quantidade de camisetas médias: 5\n",
            "Quantidade de camisetas grandes: 6\n",
            "Valor total arrecadado: R$ 190.00\n"
          ]
        }
      ]
    },
    {
      "cell_type": "markdown",
      "source": [
        "Valor da compra"
      ],
      "metadata": {
        "id": "M747ytrGAW-V"
      }
    },
    {
      "cell_type": "code",
      "source": [
        "total = float(input(\"Digite o valor total da compra: \"))\n",
        "pago = float(input(\"Digite o valor pago pelo cliente: \"))\n",
        "\n",
        "if pago < total:\n",
        "    falta = total - pago\n",
        "    print(f\"Valor insuficiente. Faltam R$ {falta:.2f} para completar a compra.\")\n",
        "else:\n",
        "    troco = pago - total\n",
        "    print(f\"Troco a ser devolvido: R$ {troco:.2f}\")"
      ],
      "metadata": {
        "colab": {
          "base_uri": "https://localhost:8080/"
        },
        "id": "zNLClfs7_6so",
        "outputId": "59579284-4dc2-4bf8-8e09-169f83a31fde"
      },
      "execution_count": null,
      "outputs": [
        {
          "output_type": "stream",
          "name": "stdout",
          "text": [
            "Digite o valor total da compra: 70\n",
            "Digite o valor pago pelo cliente: 80\n",
            "Troco a ser devolvido: R$ 10.00\n"
          ]
        }
      ]
    },
    {
      "cell_type": "code",
      "source": [],
      "metadata": {
        "id": "IFmKe2V_AetK"
      },
      "execution_count": null,
      "outputs": []
    },
    {
      "cell_type": "code",
      "source": [
        "valor = float(input(\"Digite o valor total da compra: \"))\n",
        "\n",
        "if valor >= 100:\n",
        "    print(\"Você tem direito ao frete grátis!\")\n",
        "elif 50 <= valor < 100:\n",
        "    print(\"Frete com desconto de 50%!\")\n",
        "else:\n",
        "    print(\"Sem desconto no frete.\")"
      ],
      "metadata": {
        "colab": {
          "base_uri": "https://localhost:8080/"
        },
        "id": "iufH3s77vSEL",
        "outputId": "e063a0bc-7ba9-49c0-a732-51486213728a"
      },
      "execution_count": null,
      "outputs": [
        {
          "output_type": "stream",
          "name": "stdout",
          "text": [
            "Digite o valor total da compra: 50\n",
            "Frete com desconto de 50%!\n"
          ]
        }
      ]
    },
    {
      "cell_type": "code",
      "source": [
        "musicas = [\n",
        "    \"Cheia de manias\",\n",
        "    \"Me leva junto com você\",\n",
        "    \"É tarde demais\",\n",
        "    \"Quando te encontrei\",\n",
        "    \"Deus me livre\",\n",
        "    \"Ciúme de Você\",\n",
        "    \"Cigana\"\n",
        "]\n",
        "\n",
        "n1 = int(input(\"Digite o primeiro número: \"))\n",
        "n2 = int(input(\"Digite o segundo número: \"))\n",
        "\n",
        "soma = n1 + n2\n",
        "\n",
        "if 0 <= soma <= 6:\n",
        "    print(f\"Tocando agora: {musicas[soma]}\")\n",
        "else:\n",
        "    print(\"Número inválido. Não há música correspondente.\")"
      ],
      "metadata": {
        "colab": {
          "base_uri": "https://localhost:8080/"
        },
        "id": "OCRdzBv_5UdK",
        "outputId": "ae21182d-4c6e-4ea8-e60f-0be0134a23ed"
      },
      "execution_count": null,
      "outputs": [
        {
          "output_type": "stream",
          "name": "stdout",
          "text": [
            "Digite o primeiro número: 4\n",
            "Digite o segundo número: 1\n",
            "Tocando agora: Ciúme de Você\n"
          ]
        }
      ]
    },
    {
      "cell_type": "code",
      "source": [
        "for i in range(5):\n",
        "    horas = int(input(f\"Cliente {i+1} - Quantas horas o veículo ficou estacionado? \"))\n",
        "\n",
        "    if horas <= 1:\n",
        "        valor = horas * 5\n",
        "    elif horas <= 4:\n",
        "        valor = horas * 10\n",
        "    else:\n",
        "        valor = horas * 20\n",
        "\n",
        "    print(f\"Cliente {i+1} - Valor a pagar: R$ {valor:.2f}\\n\")"
      ],
      "metadata": {
        "colab": {
          "base_uri": "https://localhost:8080/"
        },
        "id": "R0xqawfS_tvJ",
        "outputId": "37a64892-43b6-4e78-8408-2630cb9b7bb3"
      },
      "execution_count": null,
      "outputs": [
        {
          "output_type": "stream",
          "name": "stdout",
          "text": [
            "Cliente 1 - Quantas horas o veículo ficou estacionado? 2\n",
            "Cliente 1 - Valor a pagar: R$ 20.00\n",
            "\n",
            "Cliente 2 - Quantas horas o veículo ficou estacionado? 1\n",
            "Cliente 2 - Valor a pagar: R$ 5.00\n",
            "\n",
            "Cliente 3 - Quantas horas o veículo ficou estacionado? 3\n",
            "Cliente 3 - Valor a pagar: R$ 30.00\n",
            "\n",
            "Cliente 4 - Quantas horas o veículo ficou estacionado? 2\n",
            "Cliente 4 - Valor a pagar: R$ 20.00\n",
            "\n",
            "Cliente 5 - Quantas horas o veículo ficou estacionado? 1\n",
            "Cliente 5 - Valor a pagar: R$ 5.00\n",
            "\n"
          ]
        }
      ]
    },
    {
      "cell_type": "code",
      "source": [
        "numero = int(input(\"Montar a tabuada do: \"))\n",
        "inicio = int(input(\"Começar por: \"))\n",
        "fim = int(input(\"Terminar em: \"))\n",
        "\n",
        "for i in range(inicio, fim + 1):\n",
        "    print(f\"{numero} x {i} = {numero * i}\")\n"
      ],
      "metadata": {
        "colab": {
          "base_uri": "https://localhost:8080/"
        },
        "id": "HxUGt0zXFjKq",
        "outputId": "b56bd428-a61a-4394-f216-7b72c1fc9c3b"
      },
      "execution_count": null,
      "outputs": [
        {
          "output_type": "stream",
          "name": "stdout",
          "text": [
            "Montar a tabuada do: 4\n",
            "Começar por: 2\n",
            "Terminar em: 8\n",
            "4 x 2 = 8\n",
            "4 x 3 = 12\n",
            "4 x 4 = 16\n",
            "4 x 5 = 20\n",
            "4 x 6 = 24\n",
            "4 x 7 = 28\n",
            "4 x 8 = 32\n"
          ]
        }
      ]
    }
  ]
}