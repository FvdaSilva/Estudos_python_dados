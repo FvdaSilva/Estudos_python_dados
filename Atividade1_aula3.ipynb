{
  "nbformat": 4,
  "nbformat_minor": 0,
  "metadata": {
    "colab": {
      "provenance": [],
      "authorship_tag": "ABX9TyPkEpNy2isPvz9a1FMtBUmL",
      "include_colab_link": true
    },
    "kernelspec": {
      "name": "python3",
      "display_name": "Python 3"
    },
    "language_info": {
      "name": "python"
    }
  },
  "cells": [
    {
      "cell_type": "markdown",
      "metadata": {
        "id": "view-in-github",
        "colab_type": "text"
      },
      "source": [
        "<a href=\"https://colab.research.google.com/github/FvdaSilva/Estudos_python_dados/blob/main/Atividade1_aula3.ipynb\" target=\"_parent\"><img src=\"https://colab.research.google.com/assets/colab-badge.svg\" alt=\"Open In Colab\"/></a>"
      ]
    },
    {
      "cell_type": "code",
      "execution_count": null,
      "metadata": {
        "colab": {
          "base_uri": "https://localhost:8080/"
        },
        "id": "sFn8V7RNFRpX",
        "outputId": "3d8d096d-5295-441d-d19f-d286d941bf0c"
      },
      "outputs": [
        {
          "output_type": "stream",
          "name": "stdout",
          "text": [
            "Digite o código do serviço do cachorro 1: 1\n",
            "Digite o código do serviço do cachorro 2: 2\n",
            "Digite o código do serviço do cachorro 3: 3\n",
            "Digite o código do serviço do cachorro 4: 4\n",
            "Digite o código do serviço do cachorro 5: 5\n",
            "Código inválido! Por favor selecione de 1 a 4.\n",
            "Digite o código do serviço do cachorro 5: 4\n",
            "\n",
            "Banho: 1\n",
            "Tosa: 1\n",
            "Banho e Tosa: 1\n",
            "Outros: 2\n"
          ]
        }
      ],
      "source": [
        "banho = 0\n",
        "tosa = 0\n",
        "banho_tosa = 0\n",
        "outros = 0\n",
        "\n",
        "i = 0\n",
        "while i < 5:\n",
        "    codigo = int(input(f\"Digite o código do serviço do cachorro {i+1}: \"))\n",
        "\n",
        "    if codigo == 1:\n",
        "        banho += 1\n",
        "        i += 1\n",
        "    elif codigo == 2:\n",
        "        tosa += 1\n",
        "        i += 1\n",
        "    elif codigo == 3:\n",
        "        banho_tosa += 1\n",
        "        i += 1\n",
        "    elif codigo == 4:\n",
        "        outros += 1\n",
        "        i += 1\n",
        "    else:\n",
        "        print(\"Código inválido! Por favor selecione de 1 a 4.\")\n",
        "\n",
        "print(f\"\\nBanho: {banho}\")\n",
        "print(f\"Tosa: {tosa}\")\n",
        "print(f\"Banho e Tosa: {banho_tosa}\")\n",
        "print(f\"Outros: {outros}\")\n"
      ]
    },
    {
      "cell_type": "code",
      "source": [],
      "metadata": {
        "id": "8dsccEmPMfdC"
      },
      "execution_count": null,
      "outputs": []
    }
  ]
}