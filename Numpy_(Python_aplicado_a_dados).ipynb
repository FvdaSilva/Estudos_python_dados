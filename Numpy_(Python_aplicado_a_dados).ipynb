{
  "nbformat": 4,
  "nbformat_minor": 0,
  "metadata": {
    "colab": {
      "provenance": [],
      "authorship_tag": "ABX9TyNZEfAKJ3Ptol0UvMes6wLZ",
      "include_colab_link": true
    },
    "kernelspec": {
      "name": "python3",
      "display_name": "Python 3"
    },
    "language_info": {
      "name": "python"
    }
  },
  "cells": [
    {
      "cell_type": "markdown",
      "metadata": {
        "id": "view-in-github",
        "colab_type": "text"
      },
      "source": [
        "<a href=\"https://colab.research.google.com/github/FvdaSilva/Estudos_python_dados/blob/main/Numpy_(Python_aplicado_a_dados).ipynb\" target=\"_parent\"><img src=\"https://colab.research.google.com/assets/colab-badge.svg\" alt=\"Open In Colab\"/></a>"
      ]
    },
    {
      "cell_type": "markdown",
      "source": [
        "# Introdução Numpy"
      ],
      "metadata": {
        "id": "qMKtotvv8_zW"
      }
    },
    {
      "cell_type": "markdown",
      "source": [
        "## Criando um vetor de zeros"
      ],
      "metadata": {
        "id": "Hc8fVFqlFFGV"
      }
    },
    {
      "cell_type": "code",
      "source": [
        "import numpy as np\n",
        "\n",
        "a1 = np.zeros(10)\n",
        "print(a1)\n",
        "print(a1.shape)\n"
      ],
      "metadata": {
        "colab": {
          "base_uri": "https://localhost:8080/"
        },
        "id": "a0oli0MJFG2E",
        "outputId": "aaefe040-8199-4d27-c0a0-8e4b5032f64e"
      },
      "execution_count": null,
      "outputs": [
        {
          "output_type": "stream",
          "name": "stdout",
          "text": [
            "[0. 0. 0. 0. 0. 0. 0. 0. 0. 0.]\n",
            "(10,)\n"
          ]
        }
      ]
    },
    {
      "cell_type": "markdown",
      "source": [
        "## Criando um vetor com arange"
      ],
      "metadata": {
        "id": "XRBW3JOwFjdX"
      }
    },
    {
      "cell_type": "code",
      "source": [
        "a2 = np.arange(0, 10)\n",
        "print(a2)\n",
        "print(a2.shape)"
      ],
      "metadata": {
        "colab": {
          "base_uri": "https://localhost:8080/"
        },
        "id": "cejjxKW5FoUn",
        "outputId": "86f9fbb5-8ab6-4f86-d2eb-bb8f95a519ea"
      },
      "execution_count": null,
      "outputs": [
        {
          "output_type": "stream",
          "name": "stdout",
          "text": [
            "[0 1 2 3 4 5 6 7 8 9]\n",
            "(10,)\n"
          ]
        }
      ]
    },
    {
      "cell_type": "markdown",
      "source": [
        "## Definindo os arrays a1 e a2"
      ],
      "metadata": {
        "id": "GvLr87EPF4v_"
      }
    },
    {
      "cell_type": "code",
      "source": [
        "a1 = np.array([0, 0, 0, 0, 0, 0, 0, 0, 0, 0, 0, 0, 0, 0, 0, 0, 0, 0, 0, 6])\n",
        "a2 = np.array([1, 2, 3, 4, 5, 6, 7, 8, 9])"
      ],
      "metadata": {
        "id": "H8rn4Kj1GQxR"
      },
      "execution_count": null,
      "outputs": []
    },
    {
      "cell_type": "markdown",
      "source": [
        "## Operação a5: soma de a1 e a2"
      ],
      "metadata": {
        "id": "eHfgabB7Gc_O"
      }
    },
    {
      "cell_type": "code",
      "source": [
        "a1 = np.zeros(10)\n",
        "a2 = np.ones(10)\n",
        "\n",
        "a5 = a1 + a2\n",
        "\n",
        "print(\"a1:\", a1)\n",
        "print(\"a2:\", a2)\n",
        "print(\"a5:\", a5)\n",
        "print(\"Forma de a5:\", a5.shape)"
      ],
      "metadata": {
        "colab": {
          "base_uri": "https://localhost:8080/"
        },
        "id": "pNTopLfTGeYe",
        "outputId": "8383b0e7-c9c1-4f5f-8151-f14cd0013633"
      },
      "execution_count": null,
      "outputs": [
        {
          "output_type": "stream",
          "name": "stdout",
          "text": [
            "a1: [0. 0. 0. 0. 0. 0. 0. 0. 0. 0.]\n",
            "a2: [1. 1. 1. 1. 1. 1. 1. 1. 1. 1.]\n",
            "a5: [1. 1. 1. 1. 1. 1. 1. 1. 1. 1.]\n",
            "Forma de a5: (10,)\n"
          ]
        }
      ]
    },
    {
      "cell_type": "markdown",
      "source": [
        "## Definindo o array a4"
      ],
      "metadata": {
        "id": "mXmmjLutHNlY"
      }
    },
    {
      "cell_type": "code",
      "source": [
        "a4 = np.array([28, 14, 46, 24, 39, 31])"
      ],
      "metadata": {
        "id": "CbYm4uHhHP-S"
      },
      "execution_count": null,
      "outputs": []
    },
    {
      "cell_type": "markdown",
      "source": [
        "## Operação a6: multiplicação de a4 por 0.2"
      ],
      "metadata": {
        "id": "H-lLRci-HUft"
      }
    },
    {
      "cell_type": "code",
      "source": [
        "a6 = a4 * 0.2\n",
        "print(\"a4:\", a4)\n",
        "print(\"a6:\", a6)"
      ],
      "metadata": {
        "colab": {
          "base_uri": "https://localhost:8080/"
        },
        "id": "FvoaHfvEHXdS",
        "outputId": "e935da01-9ecc-427a-d6af-44e433048fea"
      },
      "execution_count": null,
      "outputs": [
        {
          "output_type": "stream",
          "name": "stdout",
          "text": [
            "a4: [28 14 46 24 39 31]\n",
            "a6: [5.6 2.8 9.2 4.8 7.8 6.2]\n"
          ]
        }
      ]
    },
    {
      "cell_type": "markdown",
      "source": [
        "## Operação a7: adição de 10 a a5"
      ],
      "metadata": {
        "id": "1XHosr7EHac_"
      }
    },
    {
      "cell_type": "code",
      "source": [
        "a7 = a5 + 10\n",
        "print(\"a5:\", a5)\n",
        "print(\"a7:\", a7)"
      ],
      "metadata": {
        "colab": {
          "base_uri": "https://localhost:8080/"
        },
        "id": "Vr3drRyPHduO",
        "outputId": "8bec392c-51ac-49e1-ba4f-41d6f8c08573"
      },
      "execution_count": null,
      "outputs": [
        {
          "output_type": "stream",
          "name": "stdout",
          "text": [
            "a5: [1. 1. 1. 1. 1. 1. 1. 1. 1. 1.]\n",
            "a7: [11. 11. 11. 11. 11. 11. 11. 11. 11. 11.]\n"
          ]
        }
      ]
    }
  ]
}